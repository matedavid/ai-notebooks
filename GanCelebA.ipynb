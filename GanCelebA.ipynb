{
 "cells": [
  {
   "cell_type": "code",
   "execution_count": null,
   "metadata": {
    "colab": {
     "base_uri": "https://localhost:8080/",
     "height": 73,
     "resources": {
      "http://localhost:8080/nbextensions/google.colab/files.js": {
       "data": "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",
       "headers": [
        [
         "content-type",
         "application/javascript"
        ]
       ],
       "ok": true,
       "status": 200,
       "status_text": ""
      }
     }
    },
    "executionInfo": {
     "elapsed": 33349,
     "status": "ok",
     "timestamp": 1622934566335,
     "user": {
      "displayName": "David Dev",
      "photoUrl": "https://lh3.googleusercontent.com/a-/AOh14GgMVbiQqgy57cDmegjPFJ77XMx2zYYdASf89y9sNA=s64",
      "userId": "07472712800231864863"
     },
     "user_tz": -120
    },
    "id": "OU1hNd8Cyq4-",
    "outputId": "05c8209d-d25c-486d-82ca-2f9d664d1c63"
   },
   "outputs": [],
   "source": [
    "# Path to Kaggle.json file\n",
    "json_path = \"~/Downloads/kaggle.json\""
   ]
  },
  {
   "cell_type": "code",
   "execution_count": null,
   "metadata": {
    "executionInfo": {
     "elapsed": 821,
     "status": "ok",
     "timestamp": 1622934568817,
     "user": {
      "displayName": "David Dev",
      "photoUrl": "https://lh3.googleusercontent.com/a-/AOh14GgMVbiQqgy57cDmegjPFJ77XMx2zYYdASf89y9sNA=s64",
      "userId": "07472712800231864863"
     },
     "user_tz": -120
    },
    "id": "rKr3cWMgy_X-"
   },
   "outputs": [],
   "source": [
    "!mkdir ~/.kaggle\n",
    "!mv {json_path} ~/.kaggle/kaggle.json\n",
    "!chmod 600 ~/.kaggle/kaggle.json"
   ]
  },
  {
   "cell_type": "code",
   "execution_count": null,
   "metadata": {
    "colab": {
     "base_uri": "https://localhost:8080/"
    },
    "executionInfo": {
     "elapsed": 14843,
     "status": "ok",
     "timestamp": 1622934583652,
     "user": {
      "displayName": "David Dev",
      "photoUrl": "https://lh3.googleusercontent.com/a-/AOh14GgMVbiQqgy57cDmegjPFJ77XMx2zYYdASf89y9sNA=s64",
      "userId": "07472712800231864863"
     },
     "user_tz": -120
    },
    "id": "f8FedO5czIUA",
    "outputId": "64d3d912-31b5-4e84-8859-b434fe71601d"
   },
   "outputs": [],
   "source": [
    "!kaggle datasets download -d jessicali9530/celeba-dataset"
   ]
  },
  {
   "cell_type": "code",
   "execution_count": null,
   "metadata": {
    "colab": {
     "base_uri": "https://localhost:8080/"
    },
    "executionInfo": {
     "elapsed": 73434,
     "status": "ok",
     "timestamp": 1622934657073,
     "user": {
      "displayName": "David Dev",
      "photoUrl": "https://lh3.googleusercontent.com/a-/AOh14GgMVbiQqgy57cDmegjPFJ77XMx2zYYdASf89y9sNA=s64",
      "userId": "07472712800231864863"
     },
     "user_tz": -120
    },
    "id": "xndEUfuRzaoR",
    "outputId": "fc86611c-4e54-45cb-c139-4d2f2ea91923"
   },
   "outputs": [],
   "source": [
    "!mkdir data\n",
    "!unzip celeba-dataset.zip -d data\n",
    "!unzip data/img_align_celeba.zip"
   ]
  },
  {
   "cell_type": "code",
   "execution_count": null,
   "metadata": {
    "colab": {
     "base_uri": "https://localhost:8080/"
    },
    "executionInfo": {
     "elapsed": 81181,
     "status": "ok",
     "timestamp": 1622934738481,
     "user": {
      "displayName": "David Dev",
      "photoUrl": "https://lh3.googleusercontent.com/a-/AOh14GgMVbiQqgy57cDmegjPFJ77XMx2zYYdASf89y9sNA=s64",
      "userId": "07472712800231864863"
     },
     "user_tz": -120
    },
    "id": "7RgV0aHizOh8",
    "outputId": "afea30d5-aa2a-4042-9e5a-548e608352c6"
   },
   "outputs": [],
   "source": [
    "import os\n",
    "os.environ['TF_CPP_MIN_LOG_LEVEL'] = '3'\n",
    "\n",
    "import tensorflow.compat.v1 as tf\n",
    "tf.disable_v2_behavior()\n",
    "\n",
    "import numpy as np\n",
    "import matplotlib.pyplot as plt\n",
    "import cv2 \n",
    "import os\n",
    "import time\n",
    "\n",
    "print(tf.__version__)\n",
    "\n",
    "!mkdir celeba_gen_images/\n",
    "!mkdir checkpoints"
   ]
  },
  {
   "cell_type": "code",
   "execution_count": null,
   "metadata": {},
   "outputs": [],
   "source": [
    "# Shape of images\n",
    "SHAPE = (64, 64)"
   ]
  },
  {
   "cell_type": "code",
   "execution_count": null,
   "metadata": {
    "colab": {
     "base_uri": "https://localhost:8080/",
     "height": 285
    },
    "executionInfo": {
     "elapsed": 281,
     "status": "ok",
     "timestamp": 1622934787429,
     "user": {
      "displayName": "David Dev",
      "photoUrl": "https://lh3.googleusercontent.com/a-/AOh14GgMVbiQqgy57cDmegjPFJ77XMx2zYYdASf89y9sNA=s64",
      "userId": "07472712800231864863"
     },
     "user_tz": -120
    },
    "id": "XGgI8XTk1a1y",
    "outputId": "052fbbab-0728-49ec-ca1a-e04c299104de"
   },
   "outputs": [],
   "source": [
    "img = cv2.imread(\"data/img_align_celeba/img_align_celeba/000012.jpg\")\n",
    "img = cv2.cvtColor(img, cv2.COLOR_BGR2RGB)\n",
    "img = cv2.resize(img, SHAPE)\n",
    "plt.imshow(img)"
   ]
  },
  {
   "cell_type": "code",
   "execution_count": null,
   "metadata": {
    "colab": {
     "base_uri": "https://localhost:8080/"
    },
    "executionInfo": {
     "elapsed": 45882,
     "status": "ok",
     "timestamp": 1622934834293,
     "user": {
      "displayName": "David Dev",
      "photoUrl": "https://lh3.googleusercontent.com/a-/AOh14GgMVbiQqgy57cDmegjPFJ77XMx2zYYdASf89y9sNA=s64",
      "userId": "07472712800231864863"
     },
     "user_tz": -120
    },
    "id": "TcOsrPh61l3D",
    "outputId": "9fe072c0-818b-445b-cdb3-15a560cfb560"
   },
   "outputs": [],
   "source": [
    "NUM_IMAGES = 10000\n",
    "\n",
    "def open_all_images(path):\n",
    "    image_names = os.listdir(path)\n",
    "    X = []\n",
    "    for img_id in range(NUM_IMAGES):\n",
    "        image_path = os.path.join(path, image_names[img_id])\n",
    "    \n",
    "        img = cv2.imread(image_path, -1)\n",
    "        img = cv2.cvtColor(img, cv2.COLOR_BGR2RGB)\n",
    "        img = cv2.resize(img, SHAPE)\n",
    "\n",
    "        assert img.shape == (SHAPE[0], SHAPE[1], 3)\n",
    "        X.append(img)\n",
    "\n",
    "        if img_id % 5000 == 0:\n",
    "            print(f\"Image {img_id} out of {len(image_names)}\")\n",
    "\n",
    "    \n",
    "    return ( (np.array(X) - np.array(X).min()) / (255 - np.array(X).min()) ) *2 - 1\n",
    "\n",
    "x_train = open_all_images(\"data/img_align_celeba/img_align_celeba\")\n",
    "print(x_train.shape)\n",
    "print(\"MIN:\", x_train.min(), \"MAX:\", x_train.max())"
   ]
  },
  {
   "cell_type": "code",
   "execution_count": null,
   "metadata": {
    "executionInfo": {
     "elapsed": 30,
     "status": "ok",
     "timestamp": 1622934834294,
     "user": {
      "displayName": "David Dev",
      "photoUrl": "https://lh3.googleusercontent.com/a-/AOh14GgMVbiQqgy57cDmegjPFJ77XMx2zYYdASf89y9sNA=s64",
      "userId": "07472712800231864863"
     },
     "user_tz": -120
    },
    "id": "pc64oPulBYoo"
   },
   "outputs": [],
   "source": [
    "def discriminator(X, reuse=False):\n",
    "    with tf.variable_scope(\"discriminator\", reuse=reuse):\n",
    "        X = tf.layers.conv2d(X, 32, 5, 2, padding=\"same\")\n",
    "        X = tf.nn.leaky_relu(X, 0.2)\n",
    "\n",
    "        X = tf.layers.conv2d(X, 64, 5, 2, padding=\"same\")\n",
    "        X = tf.layers.batch_normalization(X)\n",
    "        X = tf.nn.leaky_relu(X, 0.2)\n",
    "\n",
    "        X = tf.layers.conv2d(X, 128, 3, 2, padding=\"same\")\n",
    "        X = tf.layers.batch_normalization(X)\n",
    "        X = tf.nn.leaky_relu(X, 0.2)\n",
    "\n",
    "        X = tf.layers.conv2d(X, 256, 3, 2, padding=\"same\")\n",
    "        X = tf.layers.batch_normalization(X)\n",
    "        X = tf.nn.leaky_relu(X, 0.2)\n",
    "\n",
    "        X = tf.layers.flatten(X)\n",
    "        X = tf.layers.dropout(X, 0.4)\n",
    "\n",
    "        out = tf.layers.dense(X, 1)\n",
    "\n",
    "        return out"
   ]
  },
  {
   "cell_type": "code",
   "execution_count": null,
   "metadata": {
    "executionInfo": {
     "elapsed": 27,
     "status": "ok",
     "timestamp": 1622934834295,
     "user": {
      "displayName": "David Dev",
      "photoUrl": "https://lh3.googleusercontent.com/a-/AOh14GgMVbiQqgy57cDmegjPFJ77XMx2zYYdASf89y9sNA=s64",
      "userId": "07472712800231864863"
     },
     "user_tz": -120
    },
    "id": "R14eW4QSIe0C"
   },
   "outputs": [],
   "source": [
    "def generator(X, reuse=False):\n",
    "    with tf.variable_scope(\"generator\", reuse=reuse):\n",
    "        X = tf.layers.dense(X, units=2*2*1024)\n",
    "        X = tf.layers.batch_normalization(X)\n",
    "        X = tf.reshape(X, shape=[-1, 2, 2, 1024])\n",
    "\n",
    "        X = tf.layers.conv2d_transpose(X, 512, 5, 2, padding=\"same\")\n",
    "        X = tf.layers.batch_normalization(X)\n",
    "        X = tf.nn.relu(X)\n",
    "\n",
    "        X = tf.layers.conv2d_transpose(X, 256, 5, 2, padding=\"same\")\n",
    "        X = tf.layers.batch_normalization(X)\n",
    "        X = tf.nn.relu(X)\n",
    "\n",
    "        X = tf.layers.conv2d_transpose(X, 128, 5, 2, padding=\"same\")\n",
    "        X = tf.layers.batch_normalization(X)\n",
    "        X = tf.nn.relu(X)\n",
    "\n",
    "        X = tf.layers.conv2d_transpose(X, 64, 3, 2, padding=\"same\")\n",
    "        X = tf.layers.batch_normalization(X)\n",
    "        X = tf.nn.relu(X)\n",
    "\n",
    "        X = tf.layers.conv2d_transpose(X, 32, 3, 2, padding=\"same\")\n",
    "        X = tf.layers.batch_normalization(X)\n",
    "        X = tf.nn.relu(X)\n",
    "\n",
    "        X = tf.layers.conv2d(X, 3, 1, padding=\"same\")\n",
    "        out = tf.nn.tanh(X)\n",
    "\n",
    "        return out"
   ]
  },
  {
   "cell_type": "code",
   "execution_count": null,
   "metadata": {
    "executionInfo": {
     "elapsed": 24,
     "status": "ok",
     "timestamp": 1622934834296,
     "user": {
      "displayName": "David Dev",
      "photoUrl": "https://lh3.googleusercontent.com/a-/AOh14GgMVbiQqgy57cDmegjPFJ77XMx2zYYdASf89y9sNA=s64",
      "userId": "07472712800231864863"
     },
     "user_tz": -120
    },
    "id": "MvRJ6jk7O12f"
   },
   "outputs": [],
   "source": [
    "# Create Placeholders\n",
    "def get_inputs():\n",
    "    real_in = tf.placeholder(tf.float32, shape=[None, SHAPE[0], SHAPE[1], 3])\n",
    "    noise_in = tf.placeholder(tf.float32, shape=[None, 100])\n",
    "    return real_in, noise_in"
   ]
  },
  {
   "cell_type": "code",
   "execution_count": null,
   "metadata": {
    "colab": {
     "base_uri": "https://localhost:8080/"
    },
    "executionInfo": {
     "elapsed": 1486,
     "status": "ok",
     "timestamp": 1622934835761,
     "user": {
      "displayName": "David Dev",
      "photoUrl": "https://lh3.googleusercontent.com/a-/AOh14GgMVbiQqgy57cDmegjPFJ77XMx2zYYdASf89y9sNA=s64",
      "userId": "07472712800231864863"
     },
     "user_tz": -120
    },
    "id": "nvsTfkSjPD0L",
    "outputId": "ea5d1067-25e1-4b4d-ebef-902e32185bfb"
   },
   "outputs": [],
   "source": [
    "from tensorflow.nn import sigmoid_cross_entropy_with_logits as loss\n",
    "\n",
    "# Parameters\n",
    "smooth = 0.9\n",
    "lr = 0.0002\n",
    "b1 = 0.5\n",
    "\n",
    "tf.reset_default_graph()\n",
    "\n",
    "real_in, noise_in = get_inputs()\n",
    "\n",
    "gen_sample = generator(noise_in)\n",
    "dis_real = discriminator(real_in)\n",
    "dis_fake = discriminator(gen_sample, reuse=True)\n",
    "\n",
    "dis_real_loss = tf.reduce_mean(loss(logits=dis_real, labels=smooth * tf.ones_like(dis_real)))\n",
    "dis_fake_loss = tf.reduce_mean(loss(logits=dis_fake, labels=tf.zeros_like(dis_fake)))\n",
    "gen_loss = tf.reduce_mean(loss(logits=dis_fake, labels=smooth * tf.ones_like(dis_fake)))\n",
    "\n",
    "dis_loss = dis_real_loss + dis_fake_loss\n",
    "\n",
    "total_vars = tf.trainable_variables()\n",
    "\n",
    "gen_vars = [var for var in total_vars if var.name[0] == \"g\"]\n",
    "dis_vars = [var for var in total_vars if var.name[0] == \"d\"]\n",
    "\n",
    "gen_train = tf.train.AdamOptimizer(lr, beta1=b1).minimize(gen_loss, var_list=gen_vars)\n",
    "dis_train = tf.train.AdamOptimizer(lr, beta1=b1).minimize(dis_loss, var_list=dis_vars)"
   ]
  },
  {
   "cell_type": "code",
   "execution_count": null,
   "metadata": {
    "colab": {
     "base_uri": "https://localhost:8080/",
     "height": 1000
    },
    "id": "JnS5aZN3Q4Na",
    "outputId": "07d31830-11f0-4356-bfcd-db8b42ec2b95"
   },
   "outputs": [],
   "source": [
    "\"\"\"\n",
    "EPOCHS = 100\n",
    "BATCH_SIZE = 128\n",
    "\n",
    "saver = tf.train.Saver()\n",
    "\n",
    "def get_random_values(shape):\n",
    "    return np.random.normal(0, 1, size=shape)\n",
    "\n",
    "with tf.Session() as sess:\n",
    "  init = tf.global_variables_initializer()\n",
    "  sess.run(init)\n",
    "  \n",
    "  print(f\"Training {x_train.shape[0]} examples for {EPOCHS} epochs\")\n",
    "    \n",
    "  for epoch in range(EPOCHS):\n",
    "    num_batches = x_train.shape[0] // BATCH_SIZE\n",
    "    \n",
    "    for batch in range(num_batches):\n",
    "      x_batch = x_train[BATCH_SIZE*batch : BATCH_SIZE*(batch+1)]      \n",
    "      n_values = get_random_values((BATCH_SIZE, 100)) \n",
    "      \n",
    "      sess.run(dis_train, feed_dict={real_in: x_batch, noise_in: n_values})\n",
    "      sess.run(gen_train, feed_dict={real_in: x_batch, noise_in: n_values})\n",
    "    \n",
    "    g_loss, d_loss = sess.run([gen_loss, dis_loss], feed_dict={real_in: x_batch, noise_in: n_values})\n",
    "    print(\"Epoch: {}/{}; d_loss={:.4f}, g_loss={:.4f}\".format(epoch, EPOCHS, d_loss, g_loss))\n",
    "    \n",
    "    saved_path = saver.save(sess, \"./checkpoints/model.ckpt\")\n",
    "    saver.export_meta_graph(\"checkpoints/model.ckpt\", gen_vars)\n",
    "    print(\"Checkpoint saved on:\", saved_path)\n",
    "    \n",
    "    if epoch % 5 == 0:\n",
    "      sample_noise = get_random_values((2, 100))\n",
    "      sample_generated = sess.run(gen_sample, feed_dict={noise_in: sample_noise})\n",
    "      \n",
    "      for sample_id, sample in enumerate(sample_generated):\n",
    "        cv2.imwrite(\"celeba_gen_images/image-{}-{}.png\".format(epoch, sample_id), sample)\n",
    "      \n",
    "      f, (ax1, ax2) = plt.subplots(1, 2, sharex=True, sharey=True)\n",
    "      ax1.imshow(sample_generated[0])\n",
    "      ax2.imshow(sample_generated[1])\n",
    "      plt.show()\n",
    "\"\"\""
   ]
  },
  {
   "cell_type": "code",
   "execution_count": 63,
   "metadata": {},
   "outputs": [
    {
     "name": "stdout",
     "output_type": "stream",
     "text": [
      "Training 10000 examples for 100 epochs\n",
      "Epoch: 0/100; d_loss=0.7319, g_loss=3.0571\n",
      "WARNING:tensorflow:Only collections with string type keys will be serialized. This key has <class 'tensorflow.python.ops.variables.RefVariable'>\n",
      "WARNING:tensorflow:Only collections with string type keys will be serialized. This key has <class 'tensorflow.python.ops.variables.RefVariable'>\n",
      "WARNING:tensorflow:Only collections with string type keys will be serialized. This key has <class 'tensorflow.python.ops.variables.RefVariable'>\n",
      "WARNING:tensorflow:Only collections with string type keys will be serialized. This key has <class 'tensorflow.python.ops.variables.RefVariable'>\n",
      "WARNING:tensorflow:Only collections with string type keys will be serialized. This key has <class 'tensorflow.python.ops.variables.RefVariable'>\n",
      "WARNING:tensorflow:Only collections with string type keys will be serialized. This key has <class 'tensorflow.python.ops.variables.RefVariable'>\n",
      "WARNING:tensorflow:Only collections with string type keys will be serialized. This key has <class 'tensorflow.python.ops.variables.RefVariable'>\n",
      "WARNING:tensorflow:Only collections with string type keys will be serialized. This key has <class 'tensorflow.python.ops.variables.RefVariable'>\n",
      "WARNING:tensorflow:Only collections with string type keys will be serialized. This key has <class 'tensorflow.python.ops.variables.RefVariable'>\n",
      "WARNING:tensorflow:Only collections with string type keys will be serialized. This key has <class 'tensorflow.python.ops.variables.RefVariable'>\n",
      "WARNING:tensorflow:Only collections with string type keys will be serialized. This key has <class 'tensorflow.python.ops.variables.RefVariable'>\n",
      "WARNING:tensorflow:Only collections with string type keys will be serialized. This key has <class 'tensorflow.python.ops.variables.RefVariable'>\n",
      "WARNING:tensorflow:Only collections with string type keys will be serialized. This key has <class 'tensorflow.python.ops.variables.RefVariable'>\n",
      "WARNING:tensorflow:Only collections with string type keys will be serialized. This key has <class 'tensorflow.python.ops.variables.RefVariable'>\n",
      "WARNING:tensorflow:Only collections with string type keys will be serialized. This key has <class 'tensorflow.python.ops.variables.RefVariable'>\n",
      "WARNING:tensorflow:Only collections with string type keys will be serialized. This key has <class 'tensorflow.python.ops.variables.RefVariable'>\n",
      "WARNING:tensorflow:Only collections with string type keys will be serialized. This key has <class 'tensorflow.python.ops.variables.RefVariable'>\n",
      "WARNING:tensorflow:Only collections with string type keys will be serialized. This key has <class 'tensorflow.python.ops.variables.RefVariable'>\n",
      "WARNING:tensorflow:Only collections with string type keys will be serialized. This key has <class 'tensorflow.python.ops.variables.RefVariable'>\n",
      "WARNING:tensorflow:Only collections with string type keys will be serialized. This key has <class 'tensorflow.python.ops.variables.RefVariable'>\n",
      "WARNING:tensorflow:Only collections with string type keys will be serialized. This key has <class 'tensorflow.python.ops.variables.RefVariable'>\n",
      "WARNING:tensorflow:Only collections with string type keys will be serialized. This key has <class 'tensorflow.python.ops.variables.RefVariable'>\n",
      "WARNING:tensorflow:Only collections with string type keys will be serialized. This key has <class 'tensorflow.python.ops.variables.RefVariable'>\n",
      "WARNING:tensorflow:Only collections with string type keys will be serialized. This key has <class 'tensorflow.python.ops.variables.RefVariable'>\n",
      "WARNING:tensorflow:Only collections with string type keys will be serialized. This key has <class 'tensorflow.python.ops.variables.RefVariable'>\n",
      "WARNING:tensorflow:Only collections with string type keys will be serialized. This key has <class 'tensorflow.python.ops.variables.RefVariable'>\n",
      "Checkpoint saved on: ./checkpoints/model.ckpt\n"
     ]
    },
    {
     "ename": "TypeError",
     "evalue": "imwrite() missing required argument 'img' (pos 2)",
     "output_type": "error",
     "traceback": [
      "\u001b[0;31m---------------------------------------------------------------------------\u001b[0m",
      "\u001b[0;31mTypeError\u001b[0m                                 Traceback (most recent call last)",
      "\u001b[0;32m<ipython-input-63-93e19e94a8fc>\u001b[0m in \u001b[0;36m<module>\u001b[0;34m\u001b[0m\n\u001b[1;32m     35\u001b[0m \u001b[0;34m\u001b[0m\u001b[0m\n\u001b[1;32m     36\u001b[0m             \u001b[0;32mfor\u001b[0m \u001b[0msample_id\u001b[0m\u001b[0;34m,\u001b[0m \u001b[0msample\u001b[0m \u001b[0;32min\u001b[0m \u001b[0menumerate\u001b[0m\u001b[0;34m(\u001b[0m\u001b[0msample_generated\u001b[0m\u001b[0;34m)\u001b[0m\u001b[0;34m:\u001b[0m\u001b[0;34m\u001b[0m\u001b[0;34m\u001b[0m\u001b[0m\n\u001b[0;32m---> 37\u001b[0;31m                 \u001b[0mcv2\u001b[0m\u001b[0;34m.\u001b[0m\u001b[0mimwrite\u001b[0m\u001b[0;34m(\u001b[0m\u001b[0;34m\"celeba_gen_images/image-{}-{}.png\"\u001b[0m\u001b[0;34m.\u001b[0m\u001b[0mformat\u001b[0m\u001b[0;34m(\u001b[0m\u001b[0mepoch\u001b[0m\u001b[0;34m,\u001b[0m \u001b[0msample_id\u001b[0m\u001b[0;34m,\u001b[0m \u001b[0msample\u001b[0m\u001b[0;34m)\u001b[0m\u001b[0;34m)\u001b[0m\u001b[0;34m\u001b[0m\u001b[0;34m\u001b[0m\u001b[0m\n\u001b[0m\u001b[1;32m     38\u001b[0m \u001b[0;34m\u001b[0m\u001b[0m\n\u001b[1;32m     39\u001b[0m             \u001b[0mf\u001b[0m\u001b[0;34m,\u001b[0m \u001b[0;34m(\u001b[0m\u001b[0max1\u001b[0m\u001b[0;34m,\u001b[0m \u001b[0max2\u001b[0m\u001b[0;34m)\u001b[0m \u001b[0;34m=\u001b[0m \u001b[0mplt\u001b[0m\u001b[0;34m.\u001b[0m\u001b[0msubplots\u001b[0m\u001b[0;34m(\u001b[0m\u001b[0;36m1\u001b[0m\u001b[0;34m,\u001b[0m \u001b[0;36m2\u001b[0m\u001b[0;34m,\u001b[0m \u001b[0msharex\u001b[0m\u001b[0;34m=\u001b[0m\u001b[0;32mTrue\u001b[0m\u001b[0;34m,\u001b[0m \u001b[0msharey\u001b[0m\u001b[0;34m=\u001b[0m\u001b[0;32mTrue\u001b[0m\u001b[0;34m)\u001b[0m\u001b[0;34m\u001b[0m\u001b[0;34m\u001b[0m\u001b[0m\n",
      "\u001b[0;31mTypeError\u001b[0m: imwrite() missing required argument 'img' (pos 2)"
     ]
    }
   ],
   "source": [
    "EPOCHS = 100\n",
    "BATCH_SIZE = 128\n",
    "\n",
    "saver = tf.train.Saver()\n",
    "\n",
    "def get_random_values(shape):\n",
    "    return np.random.normal(0, 1, size=shape)\n",
    "\n",
    "with tf.Session() as sess:\n",
    "    init = tf.global_variables_initializer()\n",
    "    sess.run(init)\n",
    "    \n",
    "    print(f\"Training {x_train.shape[0]} examples for {EPOCHS} epochs\")\n",
    "    \n",
    "    for epoch in range(EPOCHS):\n",
    "        num_batches = x_train.shape[0]//BATCH_SIZE\n",
    "        \n",
    "        for batch in range(num_batches):\n",
    "            x_batch = x_train[BATCH_SIZE*batch : BATCH_SIZE*(batch+1)]\n",
    "            n_values = get_random_values((BATCH_SIZE, 100))\n",
    "            \n",
    "            sess.run(dis_train, feed_dict={real_in: x_batch, noise_in: n_values})\n",
    "            sess.run(gen_train, feed_dict={real_in: x_batch, noise_in: n_values})\n",
    "        \n",
    "        g_loss, d_loss = sess.run([gen_loss, dis_loss], feed_dict={real_in: x_batch, noise_in: n_values})\n",
    "        print(\"Epoch: {}/{}; d_loss={:.4f}, g_loss={:.4f}\".format(epoch, EPOCHS, d_loss, g_loss))\n",
    "        \n",
    "        saved_path = saver.save(sess, \"./checkpoints/model.ckpt\")\n",
    "        saver.export_meta_graph(\"./checkpoints/model.ckpt\", gen_vars)\n",
    "        print(\"Checkpoint saved on:\", saved_path)\n",
    "        \n",
    "        if epoch % 5 == 0:\n",
    "            sample_noise = get_random_values((2,100))\n",
    "            sample_generated = sess.run(gen_sample, feed_dict={noise_in: sample_noise})\n",
    "            \n",
    "            for sample_id, sample in enumerate(sample_generated):\n",
    "                cv2.imwrite(\"celeba_gen_images/image-{}-{}.png\".format(epoch, sample_id, sample), sample)\n",
    "                \n",
    "            f, (ax1, ax2) = plt.subplots(1, 2, sharex=True, sharey=True)\n",
    "            ax1.imshow(sample_generated[0])\n",
    "            ax2.imshow(sample_generated[1])\n",
    "            plt.show()"
   ]
  },
  {
   "cell_type": "code",
   "execution_count": null,
   "metadata": {
    "colab": {
     "base_uri": "https://localhost:8080/",
     "height": 34
    },
    "executionInfo": {
     "elapsed": 3476,
     "status": "ok",
     "timestamp": 1566643201513,
     "user": {
      "displayName": "David Dev",
      "photoUrl": "",
      "userId": "07472712800231864863"
     },
     "user_tz": -120
    },
    "id": "fuTZhv7YNeUJ",
    "outputId": "357b74ae-f719-4348-a7ff-05b79f4755a8"
   },
   "outputs": [],
   "source": [
    "!ls checkpoints/"
   ]
  },
  {
   "cell_type": "code",
   "execution_count": null,
   "metadata": {
    "colab": {
     "base_uri": "https://localhost:8080/",
     "height": 34
    },
    "executionInfo": {
     "elapsed": 1655,
     "status": "ok",
     "timestamp": 1592087764784,
     "user": {
      "displayName": "David Dev",
      "photoUrl": "https://lh3.googleusercontent.com/a-/AOh14GgMVbiQqgy57cDmegjPFJ77XMx2zYYdASf89y9sNA=s64",
      "userId": "07472712800231864863"
     },
     "user_tz": -120
    },
    "id": "7lkPHP97vmHR",
    "outputId": "d908ad2c-07fd-40d3-f5ea-f745a94b9511"
   },
   "outputs": [],
   "source": [
    "shape = (1, 100)\n",
    "\n",
    "n = np.zeros(shape)\n",
    "\n",
    "place = tf.placeholder(tf.float32, shape=shape)\n",
    "\n",
    "def conv2d_t(x, filters, kernel, stride):\n",
    "    return tf.layers.conv2d_transpose(x, filters, kernel, stride, padding=\"same\")\n",
    "\n",
    "res = tf.layers.dense(place, 2*2*1024)\n",
    "res = tf.reshape(res, (-1, 2, 2, 1024))\n",
    "res = conv2d_t(res, 512, 5, 2)\n",
    "res = conv2d_t(res, 256, 5, 2)\n",
    "res = conv2d_t(res, 128, 5, 2)\n",
    "res = conv2d_t(res, 128, 3, 2)\n",
    "res = conv2d_t(res, 128, 3, 2)\n",
    "res = conv2d_t(res, 64, 3, 2)\n",
    "res = conv2d_t(res, 32, 3, 2)\n",
    "res = tf.layers.conv2d(res, 3, 1,1)\n",
    "\n",
    "with tf.Session() as sess:\n",
    "    init = tf.global_variables_initializer()\n",
    "    sess.run(init)\n",
    "  \n",
    "    val = sess.run(res, feed_dict={place: n})\n",
    "    print(val.shape)"
   ]
  },
  {
   "cell_type": "code",
   "execution_count": null,
   "metadata": {
    "colab": {
     "base_uri": "https://localhost:8080/",
     "height": 51
    },
    "executionInfo": {
     "elapsed": 1777,
     "status": "ok",
     "timestamp": 1592087769630,
     "user": {
      "displayName": "David Dev",
      "photoUrl": "https://lh3.googleusercontent.com/a-/AOh14GgMVbiQqgy57cDmegjPFJ77XMx2zYYdASf89y9sNA=s64",
      "userId": "07472712800231864863"
     },
     "user_tz": -120
    },
    "id": "0Ck_aw_jnvQx",
    "outputId": "906295f8-3380-4780-85ce-8c26671136b6"
   },
   "outputs": [],
   "source": [
    "!ls checkpoints"
   ]
  },
  {
   "cell_type": "code",
   "execution_count": null,
   "metadata": {
    "id": "ap1WU2ZBnxtO"
   },
   "outputs": [],
   "source": []
  }
 ],
 "metadata": {
  "accelerator": "GPU",
  "colab": {
   "collapsed_sections": [],
   "machine_shape": "hm",
   "name": "GanCelebA_64x64_60000.ipynb",
   "provenance": []
  },
  "kernelspec": {
   "display_name": "Python 3",
   "language": "python",
   "name": "python3"
  },
  "language_info": {
   "codemirror_mode": {
    "name": "ipython",
    "version": 3
   },
   "file_extension": ".py",
   "mimetype": "text/x-python",
   "name": "python",
   "nbconvert_exporter": "python",
   "pygments_lexer": "ipython3",
   "version": "3.9.5"
  }
 },
 "nbformat": 4,
 "nbformat_minor": 1
}
